{
 "cells": [
  {
   "cell_type": "code",
   "execution_count": 1,
   "metadata": {},
   "outputs": [
    {
     "name": "stderr",
     "output_type": "stream",
     "text": [
      "[nltk_data] Downloading package punkt to /home/mihofer/nltk_data...\n",
      "[nltk_data]   Package punkt is already up-to-date!\n",
      "[nltk_data] Downloading package punkt_tab to\n",
      "[nltk_data]     /home/mihofer/nltk_data...\n",
      "[nltk_data]   Package punkt_tab is already up-to-date!\n"
     ]
    }
   ],
   "source": [
    "from pathlib import Path\n",
    "from pycocotools.coco import COCO\n",
    "import nltk\n",
    "nltk.download('punkt')\n",
    "nltk.download('punkt_tab')\n",
    "from data_loader import get_loader\n",
    "import torch\n",
    "import torch.utils.data as data\n",
    "from torchvision import transforms\n",
    "from collections import Counter\n",
    "\n",
    "datapath = Path.cwd()/'data'\n",
    "\n",
    "# Watch for any changes in model.py, and re-load it automatically.\n",
    "%load_ext autoreload\n",
    "%autoreload 2\n",
    "\n",
    "# Import EncoderCNN and DecoderRNN. \n",
    "from model import EncoderCNN, DecoderRNN\n"
   ]
  },
  {
   "cell_type": "code",
   "execution_count": 2,
   "metadata": {},
   "outputs": [
    {
     "name": "stdout",
     "output_type": "stream",
     "text": [
      "loading annotations into memory...\n",
      "Done (t=0.46s)\n",
      "creating index...\n",
      "index created!\n",
      "[0/414113] Tokenizing captions...\n",
      "[100000/414113] Tokenizing captions...\n",
      "[200000/414113] Tokenizing captions...\n",
      "[300000/414113] Tokenizing captions...\n",
      "[400000/414113] Tokenizing captions...\n",
      "loading annotations into memory...\n",
      "Done (t=0.46s)\n",
      "creating index...\n",
      "index created!\n",
      "Obtaining caption lengths...\n"
     ]
    },
    {
     "name": "stderr",
     "output_type": "stream",
     "text": [
      "100%|██████████| 414113/414113 [00:31<00:00, 13286.57it/s]\n"
     ]
    }
   ],
   "source": [
    "# Define a transform to pre-process the training images.\n",
    "transform_train = transforms.Compose([ \n",
    "    transforms.Resize(256),                          # smaller edge of image resized to 256\n",
    "    transforms.RandomCrop(224),                      # get 224x224 crop from random location\n",
    "    transforms.RandomHorizontalFlip(),               # horizontally flip image with probability=0.5\n",
    "    transforms.ToTensor(),                           # convert the PIL Image to a tensor\n",
    "    transforms.Normalize((0.485, 0.456, 0.406),      # normalize image for pre-trained model\n",
    "                         (0.229, 0.224, 0.225))])\n",
    "\n",
    "# Set the minimum word count threshold.\n",
    "vocab_threshold = 5\n",
    "\n",
    "# Specify the batch size.\n",
    "batch_size = 10\n",
    "\n",
    "# Obtain the data loader.\n",
    "data_loader = get_loader(transform=transform_train,\n",
    "                         mode='train',\n",
    "                         batch_size=batch_size,\n",
    "                         vocab_threshold=vocab_threshold,\n",
    "                         data_folder=datapath,\n",
    "                         vocab_from_file=False)"
   ]
  },
  {
   "cell_type": "code",
   "execution_count": 3,
   "metadata": {},
   "outputs": [
    {
     "name": "stdout",
     "output_type": "stream",
     "text": [
      "['a', 'person', 'doing', 'a', 'trick', 'on', 'a', 'rail', 'while', 'riding', 'a', 'skateboard', '.']\n",
      "Special start word: <start>\n",
      "[0]\n",
      "[0, 3, 98, 754, 3, 396, 39, 3, 1010, 207, 139, 3, 753, 18]\n",
      "Special end word: <end>\n",
      "[0, 3, 98, 754, 3, 396, 39, 3, 1010, 207, 139, 3, 753, 18, 1]\n",
      "tensor([   0,    3,   98,  754,    3,  396,   39,    3, 1010,  207,  139,    3,\n",
      "         753,   18,    1])\n"
     ]
    }
   ],
   "source": [
    "sample_caption = 'A person doing a trick on a rail while riding a skateboard.'\n",
    "sample_tokens = nltk.tokenize.word_tokenize(str(sample_caption).lower())\n",
    "print(sample_tokens)\n",
    "\n",
    "sample_caption = []\n",
    "\n",
    "start_word = data_loader.dataset.vocab.start_word\n",
    "print('Special start word:', start_word)\n",
    "sample_caption.append(data_loader.dataset.vocab(start_word))\n",
    "print(sample_caption)\n",
    "\n",
    "sample_caption.extend([data_loader.dataset.vocab(token) for token in sample_tokens])\n",
    "print(sample_caption)\n",
    "\n",
    "end_word = data_loader.dataset.vocab.end_word\n",
    "print('Special end word:', end_word)\n",
    "\n",
    "sample_caption.append(data_loader.dataset.vocab(end_word))\n",
    "print(sample_caption)\n",
    "\n",
    "sample_caption = torch.Tensor(sample_caption).long()\n",
    "print(sample_caption)"
   ]
  },
  {
   "cell_type": "code",
   "execution_count": 4,
   "metadata": {},
   "outputs": [
    {
     "name": "stdout",
     "output_type": "stream",
     "text": [
      "Total number of tokens in vocabulary: 8852\n"
     ]
    }
   ],
   "source": [
    "# Preview the word2idx dictionary.\n",
    "dict(list(data_loader.dataset.vocab.word2idx.items())[:10])\n",
    "\n",
    "# Print the total number of keys in the word2idx dictionary.\n",
    "print('Total number of tokens in vocabulary:', len(data_loader.dataset.vocab))"
   ]
  },
  {
   "cell_type": "code",
   "execution_count": 5,
   "metadata": {},
   "outputs": [
    {
     "name": "stdout",
     "output_type": "stream",
     "text": [
      "loading annotations into memory...\n",
      "Done (t=0.57s)\n",
      "creating index...\n",
      "index created!\n",
      "[0/414113] Tokenizing captions...\n",
      "[100000/414113] Tokenizing captions...\n",
      "[200000/414113] Tokenizing captions...\n",
      "[300000/414113] Tokenizing captions...\n",
      "[400000/414113] Tokenizing captions...\n",
      "loading annotations into memory...\n",
      "Done (t=0.34s)\n",
      "creating index...\n",
      "index created!\n",
      "Obtaining caption lengths...\n"
     ]
    },
    {
     "name": "stderr",
     "output_type": "stream",
     "text": [
      "100%|██████████| 414113/414113 [00:27<00:00, 15164.67it/s]\n"
     ]
    },
    {
     "name": "stdout",
     "output_type": "stream",
     "text": [
      "Total number of tokens in vocabulary: 9947\n"
     ]
    }
   ],
   "source": [
    "# Modify the minimum word count threshold.\n",
    "vocab_threshold = 4\n",
    "\n",
    "# Obtain the data loader.\n",
    "data_loader = get_loader(transform=transform_train,\n",
    "                         mode='train',\n",
    "                         batch_size=batch_size,\n",
    "                         vocab_threshold=vocab_threshold,\n",
    "                         data_folder=datapath,\n",
    "                         vocab_from_file=False)\n",
    "\n",
    "# Print the total number of keys in the word2idx dictionary.\n",
    "print('Total number of tokens in vocabulary:', len(data_loader.dataset.vocab))"
   ]
  },
  {
   "cell_type": "code",
   "execution_count": 6,
   "metadata": {},
   "outputs": [
    {
     "name": "stdout",
     "output_type": "stream",
     "text": [
      "Special unknown word: <unk>\n",
      "All unknown words are mapped to this integer: 2\n",
      "2\n",
      "2\n"
     ]
    }
   ],
   "source": [
    "unk_word = data_loader.dataset.vocab.unk_word\n",
    "print('Special unknown word:', unk_word)\n",
    "\n",
    "print('All unknown words are mapped to this integer:', data_loader.dataset.vocab(unk_word))\n",
    "\n",
    "print(data_loader.dataset.vocab('jfkafejw'))\n",
    "print(data_loader.dataset.vocab('ieowoqjf'))"
   ]
  },
  {
   "cell_type": "code",
   "execution_count": 7,
   "metadata": {},
   "outputs": [
    {
     "name": "stdout",
     "output_type": "stream",
     "text": [
      "value: 10 --- count: 86302\n",
      "value: 11 --- count: 79971\n",
      "value:  9 --- count: 71920\n",
      "value: 12 --- count: 57653\n",
      "value: 13 --- count: 37668\n",
      "value: 14 --- count: 22342\n",
      "value:  8 --- count: 20742\n",
      "value: 15 --- count: 12839\n",
      "value: 16 --- count:  7736\n",
      "value: 17 --- count:  4845\n",
      "value: 18 --- count:  3101\n",
      "value: 19 --- count:  2017\n",
      "value:  7 --- count:  1594\n",
      "value: 20 --- count:  1453\n",
      "value: 21 --- count:   997\n",
      "value: 22 --- count:   683\n",
      "value: 23 --- count:   534\n",
      "value: 24 --- count:   384\n",
      "value: 25 --- count:   277\n",
      "value: 26 --- count:   214\n",
      "value: 27 --- count:   160\n",
      "value: 28 --- count:   114\n",
      "value: 29 --- count:    87\n",
      "value: 30 --- count:    58\n",
      "value: 31 --- count:    49\n",
      "value: 32 --- count:    44\n",
      "value: 34 --- count:    40\n",
      "value: 37 --- count:    32\n",
      "value: 35 --- count:    31\n",
      "value: 33 --- count:    30\n",
      "value: 36 --- count:    26\n",
      "value: 38 --- count:    18\n",
      "value: 39 --- count:    18\n",
      "value: 43 --- count:    16\n",
      "value: 44 --- count:    16\n",
      "value: 48 --- count:    12\n",
      "value: 45 --- count:    11\n",
      "value: 42 --- count:    10\n",
      "value: 40 --- count:     9\n",
      "value: 49 --- count:     9\n",
      "value: 46 --- count:     9\n",
      "value: 47 --- count:     7\n",
      "value: 50 --- count:     6\n",
      "value: 51 --- count:     6\n",
      "value: 41 --- count:     6\n",
      "value: 52 --- count:     5\n",
      "value: 54 --- count:     3\n",
      "value: 56 --- count:     2\n",
      "value:  6 --- count:     2\n",
      "value: 53 --- count:     2\n",
      "value: 55 --- count:     2\n",
      "value: 57 --- count:     1\n"
     ]
    }
   ],
   "source": [
    "# Tally the total number of training captions with each length.\n",
    "counter = Counter(data_loader.dataset.caption_lengths)\n",
    "lengths = sorted(counter.items(), key=lambda pair: pair[1], reverse=True)\n",
    "for value, count in lengths:\n",
    "    print('value: %2d --- count: %5d' % (value, count))"
   ]
  },
  {
   "cell_type": "code",
   "execution_count": 8,
   "metadata": {},
   "outputs": [
    {
     "name": "stdout",
     "output_type": "stream",
     "text": [
      "sampled indices: [np.int64(187017), np.int64(66767), np.int64(30779), np.int64(269892), np.int64(398168), np.int64(21776), np.int64(344492), np.int64(82424), np.int64(9423), np.int64(244335)]\n",
      "images.shape: torch.Size([10, 3, 224, 224])\n",
      "captions.shape: torch.Size([10, 11])\n",
      "images: tensor([[[[-1.9809, -1.9295, -1.9295,  ..., -1.8439, -1.8268, -1.7754],\n",
      "          [-1.9467, -1.9809, -1.9295,  ..., -1.8097, -1.7412, -1.7754],\n",
      "          [-1.9467, -1.9638, -1.9638,  ..., -1.8097, -1.7925, -1.7925],\n",
      "          ...,\n",
      "          [-1.2959, -1.2274, -1.0219,  ..., -1.4500, -1.4329, -1.3644],\n",
      "          [-1.3644, -1.3130, -1.1075,  ..., -1.4672, -1.4158, -1.3815],\n",
      "          [-1.3644, -1.3987, -1.2445,  ..., -1.4329, -1.3987, -1.3644]],\n",
      "\n",
      "         [[-1.9482, -1.9307, -1.9307,  ..., -1.8431, -1.8256, -1.7731],\n",
      "          [-1.9482, -1.9832, -1.9307,  ..., -1.8081, -1.7381, -1.7731],\n",
      "          [-1.9482, -1.9657, -1.9657,  ..., -1.8081, -1.7906, -1.7906],\n",
      "          ...,\n",
      "          [-1.7031, -1.6331, -1.4405,  ..., -1.6681, -1.6331, -1.5630],\n",
      "          [-1.7381, -1.6856, -1.4755,  ..., -1.6856, -1.6155, -1.5805],\n",
      "          [-1.7206, -1.7206, -1.5630,  ..., -1.6331, -1.5980, -1.5630]],\n",
      "\n",
      "         [[-1.7870, -1.7522, -1.7522,  ..., -1.6824, -1.6650, -1.6127],\n",
      "          [-1.7696, -1.7870, -1.7522,  ..., -1.6476, -1.5779, -1.6127],\n",
      "          [-1.7696, -1.7870, -1.7870,  ..., -1.6476, -1.6302, -1.6302],\n",
      "          ...,\n",
      "          [-1.5779, -1.5256, -1.4210,  ..., -1.6127, -1.5779, -1.5081],\n",
      "          [-1.6476, -1.5953, -1.4907,  ..., -1.6302, -1.5604, -1.5256],\n",
      "          [-1.6650, -1.6824, -1.5779,  ..., -1.5779, -1.5430, -1.5081]]],\n",
      "\n",
      "\n",
      "        [[[-2.0837, -2.0665, -2.0837,  ..., -2.0152, -2.0152, -2.0323],\n",
      "          [-2.0837, -2.0837, -2.0837,  ..., -2.0323, -2.0323, -2.0152],\n",
      "          [-2.0665, -2.0665, -2.1008,  ..., -2.0323, -2.0152, -2.0152],\n",
      "          ...,\n",
      "          [ 0.2111,  0.3481,  0.3994,  ...,  0.8618,  0.9817,  1.0502],\n",
      "          [ 0.2111,  0.3994,  0.3481,  ...,  1.0159,  0.9303,  0.8789],\n",
      "          [ 0.2624,  0.3994,  0.3138,  ...,  1.0159,  0.9817,  0.9474]],\n",
      "\n",
      "         [[-2.0007, -1.9832, -2.0007,  ..., -1.9307, -1.9307, -1.9482],\n",
      "          [-2.0007, -2.0007, -2.0007,  ..., -1.9482, -1.9482, -1.9307],\n",
      "          [-1.9832, -1.9832, -2.0182,  ..., -1.9482, -1.9307, -1.9307],\n",
      "          ...,\n",
      "          [ 0.3452,  0.4853,  0.5028,  ...,  0.9755,  1.0980,  1.1856],\n",
      "          [ 0.3452,  0.5378,  0.4503,  ...,  1.1331,  1.0455,  0.9930],\n",
      "          [ 0.3978,  0.5378,  0.4503,  ...,  1.1331,  1.0980,  1.0630]],\n",
      "\n",
      "         [[-1.7696, -1.7522, -1.7696,  ..., -1.6999, -1.6999, -1.7173],\n",
      "          [-1.7696, -1.7696, -1.7696,  ..., -1.7173, -1.7173, -1.6999],\n",
      "          [-1.7522, -1.7522, -1.7870,  ..., -1.7173, -1.6999, -1.6999],\n",
      "          ...,\n",
      "          [ 0.5311,  0.6705,  0.6879,  ...,  1.2108,  1.3328,  1.4200],\n",
      "          [ 0.5311,  0.7228,  0.6531,  ...,  1.3677,  1.2805,  1.2282],\n",
      "          [ 0.5834,  0.7228,  0.6356,  ...,  1.3677,  1.3328,  1.2980]]],\n",
      "\n",
      "\n",
      "        [[[-0.6281, -0.6281, -0.5938,  ..., -2.1008, -2.1179, -2.0665],\n",
      "          [-0.4226, -0.4054, -0.3883,  ..., -2.1008, -2.1179, -2.0837],\n",
      "          [-0.3369, -0.3027, -0.2856,  ..., -2.1179, -2.1179, -2.0837],\n",
      "          ...,\n",
      "          [ 1.9235,  1.9235,  1.9235,  ...,  1.6153,  1.5639,  1.0331],\n",
      "          [ 1.9064,  1.9064,  1.9064,  ...,  1.6324,  1.5810,  1.5468],\n",
      "          [ 1.9064,  1.9064,  1.9064,  ...,  1.6324,  1.5982,  1.5810]],\n",
      "\n",
      "         [[-1.1604, -1.1779, -1.1604,  ..., -2.0182, -2.0182, -1.9132],\n",
      "          [-1.0903, -1.0728, -1.0903,  ..., -2.0182, -2.0357, -1.9307],\n",
      "          [-1.0378, -1.0203, -1.0203,  ..., -2.0357, -2.0357, -1.9307],\n",
      "          ...,\n",
      "          [ 2.1660,  2.1660,  2.1660,  ...,  1.8683,  1.8508,  1.4132],\n",
      "          [ 2.1485,  2.1485,  2.1485,  ...,  1.9209,  1.8683,  1.8333],\n",
      "          [ 2.1485,  2.1485,  2.1485,  ...,  1.9209,  1.8859,  1.8683]],\n",
      "\n",
      "         [[-1.0550, -1.0201, -1.0027,  ..., -1.7696, -1.7522, -1.7870],\n",
      "          [-0.9504, -0.9156, -0.9330,  ..., -1.7870, -1.7696, -1.7870],\n",
      "          [-0.8981, -0.8633, -0.8633,  ..., -1.7870, -1.7696, -1.7870],\n",
      "          ...,\n",
      "          [ 2.5703,  2.5703,  2.5703,  ...,  2.4134,  2.3960,  2.1520],\n",
      "          [ 2.5529,  2.5529,  2.5529,  ...,  2.4308,  2.3960,  2.3611],\n",
      "          [ 2.5529,  2.5529,  2.5529,  ...,  2.4134,  2.4134,  2.3960]]],\n",
      "\n",
      "\n",
      "        ...,\n",
      "\n",
      "\n",
      "        [[[ 2.2489,  2.2489,  2.2489,  ...,  0.6049,  0.6049,  0.5878],\n",
      "          [ 2.2489,  2.2489,  2.2489,  ...,  0.6221,  0.6563,  0.6392],\n",
      "          [ 2.2489,  2.2489,  2.2489,  ...,  0.6049,  0.6221,  0.6221],\n",
      "          ...,\n",
      "          [-1.1418, -1.1589, -1.1589,  ..., -0.7308, -0.6965, -0.7137],\n",
      "          [-1.2788, -1.2103, -1.2617,  ..., -0.7822, -0.8164, -0.7822],\n",
      "          [-1.2959, -1.2617, -1.2788,  ..., -0.9534, -0.8678, -0.8164]],\n",
      "\n",
      "         [[ 2.4286,  2.4286,  2.4286,  ...,  0.6954,  0.6954,  0.6779],\n",
      "          [ 2.4286,  2.4286,  2.4286,  ...,  0.6954,  0.7304,  0.7129],\n",
      "          [ 2.4286,  2.4286,  2.4286,  ...,  0.7304,  0.7304,  0.7304],\n",
      "          ...,\n",
      "          [-1.1779, -1.1779, -1.1253,  ..., -0.7402, -0.7402, -0.7577],\n",
      "          [-1.1954, -1.1253, -1.2304,  ..., -0.7752, -0.8277, -0.8277],\n",
      "          [-1.2479, -1.2654, -1.3179,  ..., -0.9853, -0.8978, -0.8627]],\n",
      "\n",
      "         [[ 2.6400,  2.6400,  2.6400,  ..., -0.0790, -0.0964, -0.1138],\n",
      "          [ 2.6400,  2.6400,  2.6400,  ..., -0.1138, -0.0964, -0.0964],\n",
      "          [ 2.6400,  2.6400,  2.6400,  ..., -0.1661, -0.1138, -0.0790],\n",
      "          ...,\n",
      "          [-1.0201, -1.0550, -1.0550,  ..., -1.0027, -0.9853, -1.0201],\n",
      "          [-1.0376, -1.0376, -1.0898,  ..., -0.9678, -1.0201, -1.0027],\n",
      "          [-1.1073, -1.1247, -1.0724,  ..., -1.0724, -1.0376, -1.0724]]],\n",
      "\n",
      "\n",
      "        [[[-0.1314, -0.1486, -0.1314,  ..., -0.1143, -0.0972, -0.0972],\n",
      "          [-0.1143, -0.1314, -0.1657,  ..., -0.1143, -0.0972, -0.1143],\n",
      "          [-0.1143, -0.1314, -0.1486,  ..., -0.1143, -0.0972, -0.0972],\n",
      "          ...,\n",
      "          [-1.3815, -1.6727, -1.7412,  ..., -1.8953, -1.8610, -1.9124],\n",
      "          [-1.0390, -1.4672, -1.7412,  ..., -1.6898, -1.6384, -1.6555],\n",
      "          [-1.2103, -1.1760, -1.4843,  ..., -1.3302, -1.4158, -1.3815]],\n",
      "\n",
      "         [[ 0.8354,  0.8704,  0.8880,  ...,  0.8704,  0.8704,  0.8704],\n",
      "          [ 0.8704,  0.8529,  0.8704,  ...,  0.8880,  0.8704,  0.8704],\n",
      "          [ 0.8704,  0.8529,  0.8880,  ...,  0.8880,  0.8704,  0.9055],\n",
      "          ...,\n",
      "          [-0.8452, -1.1604, -1.3354,  ..., -1.4930, -1.3004, -1.4930],\n",
      "          [-0.3725, -0.7052, -1.1604,  ..., -1.1779, -1.0728, -1.0903],\n",
      "          [-0.5476, -0.4776, -0.8452,  ..., -0.8452, -0.8803, -0.7752]],\n",
      "\n",
      "         [[ 2.4134,  2.3786,  2.3786,  ...,  2.3088,  2.3611,  2.3786],\n",
      "          [ 2.4134,  2.3960,  2.3960,  ...,  2.3437,  2.3786,  2.4134],\n",
      "          [ 2.4134,  2.3960,  2.3611,  ...,  2.3611,  2.3437,  2.3263],\n",
      "          ...,\n",
      "          [-1.5953, -1.6824, -1.6476,  ..., -1.7347, -1.7522, -1.6824],\n",
      "          [-1.5604, -1.6999, -1.7173,  ..., -1.6999, -1.7347, -1.7173],\n",
      "          [-1.5953, -1.5953, -1.5779,  ..., -1.5604, -1.6999, -1.6824]]],\n",
      "\n",
      "\n",
      "        [[[ 1.8893,  1.8893,  1.8722,  ...,  1.7865,  1.7694,  1.6667],\n",
      "          [ 1.8379,  1.8550,  1.7523,  ...,  1.1015,  1.5982,  1.7694],\n",
      "          [ 1.9064,  1.8037,  1.8722,  ...,  0.6734,  1.1358,  1.7180],\n",
      "          ...,\n",
      "          [-1.6384, -1.2617, -0.7993,  ...,  0.7077,  0.6734,  0.7419],\n",
      "          [-1.6042, -0.9534, -0.5767,  ...,  0.7591,  0.6563,  0.7077],\n",
      "          [-1.4672, -0.6623, -0.6281,  ...,  0.7933,  0.8104,  0.8618]],\n",
      "\n",
      "         [[ 1.5007,  1.4832,  1.4132,  ...,  1.6408,  1.6933,  1.7108],\n",
      "          [ 1.5357,  1.5357,  1.5882,  ...,  1.2906,  1.5707,  1.7108],\n",
      "          [ 1.4832,  1.5707,  1.5357,  ...,  0.6954,  1.1506,  1.6232],\n",
      "          ...,\n",
      "          [-1.5805, -1.2829, -0.8978,  ..., -0.0399, -0.0749, -0.0749],\n",
      "          [-1.5630, -1.0728, -0.7577,  ..., -0.0224, -0.0574, -0.1275],\n",
      "          [-1.4405, -0.7577, -0.7227,  ..., -0.0924, -0.1099, -0.1099]],\n",
      "\n",
      "         [[ 1.4374,  1.4897,  1.5245,  ...,  1.6988,  1.8034,  1.8557],\n",
      "          [ 1.5245,  1.5768,  1.3328,  ...,  1.4025,  1.6814,  1.9080],\n",
      "          [ 1.6291,  1.3851,  1.4025,  ...,  0.8797,  1.3502,  1.9254],\n",
      "          ...,\n",
      "          [-1.4036, -1.1421, -0.8110,  ..., -0.4798, -0.4973, -0.5147],\n",
      "          [-1.4036, -0.9330, -0.6541,  ..., -0.4973, -0.4450, -0.4798],\n",
      "          [-1.2816, -0.6367, -0.6715,  ..., -0.4624, -0.4973, -0.4624]]]])\n",
      "captions: tensor([[   0, 3788,  405,   13, 1841,  235,   21,   57,   77,  566,    1],\n",
      "        [   0,    3,  843,  139,  160,  354, 3766,  111,  133,   18,    1],\n",
      "        [   0,    3,  822,   13, 2390,    6,    3,  216,   13,  382,    1],\n",
      "        [   0,   47,  290,   13,   51,   64,   52,  111,  102, 2504,    1],\n",
      "        [   0,   50,   51,  206,    3,  386,   77,    3,  770,   18,    1],\n",
      "        [   0,    3,  335,  327,  523,   21,  132, 1215,  603,   18,    1],\n",
      "        [   0,    3,   60,  407,   77,   32, 2770,  673,  101, 5344,    1],\n",
      "        [   0, 1335,    6,   47, 6850, 7069, 3836, 9305, 2036,   18,    1],\n",
      "        [   0,    3,    4,  178, 2479,  170,  364,  161,    3,  772,    1],\n",
      "        [   0,  432,  768,  402,  508,  207,  355,   32, 3799,   18,    1]])\n"
     ]
    }
   ],
   "source": [
    "# Randomly sample a caption length, and sample indices with that length.\n",
    "indices = data_loader.dataset.get_train_indices()\n",
    "print('sampled indices:', indices)\n",
    "\n",
    "# Create and assign a batch sampler to retrieve a batch with the sampled indices.\n",
    "new_sampler = data.sampler.SubsetRandomSampler(indices=indices)\n",
    "data_loader.batch_sampler.sampler = new_sampler\n",
    "    \n",
    "# Obtain the batch.\n",
    "images, captions = next(iter(data_loader))\n",
    "    \n",
    "print('images.shape:', images.shape)\n",
    "print('captions.shape:', captions.shape)\n",
    "\n",
    "# (Optional) Uncomment the lines of code below to print the pre-processed images and captions.\n",
    "print('images:', images)\n",
    "print('captions:', captions)"
   ]
  },
  {
   "cell_type": "code",
   "execution_count": 9,
   "metadata": {},
   "outputs": [],
   "source": [
    "device = torch.device(\"cuda\" if torch.cuda.is_available() else \"cpu\")"
   ]
  },
  {
   "cell_type": "code",
   "execution_count": 10,
   "metadata": {},
   "outputs": [
    {
     "name": "stderr",
     "output_type": "stream",
     "text": [
      "/home/mihofer/Repos/AutoCaption/.conda/lib/python3.11/site-packages/torchvision/models/_utils.py:208: UserWarning: The parameter 'pretrained' is deprecated since 0.13 and may be removed in the future, please use 'weights' instead.\n",
      "  warnings.warn(\n",
      "/home/mihofer/Repos/AutoCaption/.conda/lib/python3.11/site-packages/torchvision/models/_utils.py:223: UserWarning: Arguments other than a weight enum or `None` for 'weights' are deprecated since 0.13 and may be removed in the future. The current behavior is equivalent to passing `weights=ResNet50_Weights.IMAGENET1K_V1`. You can also use `weights=ResNet50_Weights.DEFAULT` to get the most up-to-date weights.\n",
      "  warnings.warn(msg)\n"
     ]
    },
    {
     "name": "stdout",
     "output_type": "stream",
     "text": [
      "type(features): <class 'torch.Tensor'>\n",
      "features.shape: torch.Size([10, 256])\n"
     ]
    }
   ],
   "source": [
    "# Specify the dimensionality of the image embedding.\n",
    "embed_size = 256\n",
    "\n",
    "#-#-#-# Do NOT modify the code below this line. #-#-#-#\n",
    "\n",
    "# Initialize the encoder. (Optional: Add additional arguments if necessary.)\n",
    "encoder = EncoderCNN(embed_size)\n",
    "\n",
    "# Move the encoder to GPU if CUDA is available.\n",
    "encoder.to(device)\n",
    "    \n",
    "# Move last batch of images (from Step 2) to GPU if CUDA is available.   \n",
    "images = images.to(device)\n",
    "\n",
    "# Pass the images through the encoder.\n",
    "features = encoder(images)\n",
    "\n",
    "print('type(features):', type(features))\n",
    "print('features.shape:', features.shape)\n",
    "\n",
    "# Check that your encoder satisfies some requirements of the project! :D\n",
    "assert type(features)==torch.Tensor, \"Encoder output needs to be a PyTorch Tensor.\" \n",
    "assert (features.shape[0]==batch_size) & (features.shape[1]==embed_size), \"The shape of the encoder output is incorrect.\""
   ]
  },
  {
   "cell_type": "code",
   "execution_count": 11,
   "metadata": {},
   "outputs": [
    {
     "name": "stdout",
     "output_type": "stream",
     "text": [
      "type(outputs): <class 'torch.Tensor'>\n",
      "outputs.shape: torch.Size([10, 11, 9947])\n"
     ]
    }
   ],
   "source": [
    "# Specify the number of features in the hidden state of the RNN decoder.\n",
    "hidden_size = 512\n",
    "\n",
    "#-#-#-# Do NOT modify the code below this line. #-#-#-#\n",
    "\n",
    "# Store the size of the vocabulary.\n",
    "vocab_size = len(data_loader.dataset.vocab)\n",
    "\n",
    "# Initialize the decoder.\n",
    "decoder = DecoderRNN(embed_size, hidden_size, vocab_size)\n",
    "\n",
    "# Move the decoder to GPU if CUDA is available.\n",
    "decoder.to(device)\n",
    "    \n",
    "# Move last batch of captions (from Step 1) to GPU if CUDA is available \n",
    "captions = captions.to(device)\n",
    "\n",
    "# Pass the encoder output and captions through the decoder.\n",
    "outputs = decoder(features, captions)\n",
    "\n",
    "print('type(outputs):', type(outputs))\n",
    "print('outputs.shape:', outputs.shape)\n",
    "\n",
    "# Check that your decoder satisfies some requirements of the project! :D\n",
    "assert type(outputs)==torch.Tensor, \"Decoder output needs to be a PyTorch Tensor.\"\n",
    "assert (outputs.shape[0]==batch_size) & (outputs.shape[1]==captions.shape[1]) & (outputs.shape[2]==vocab_size), \"The shape of the decoder output is incorrect.\""
   ]
  },
  {
   "cell_type": "code",
   "execution_count": null,
   "metadata": {},
   "outputs": [],
   "source": []
  }
 ],
 "metadata": {
  "kernelspec": {
   "display_name": ".conda",
   "language": "python",
   "name": "python3"
  },
  "language_info": {
   "codemirror_mode": {
    "name": "ipython",
    "version": 3
   },
   "file_extension": ".py",
   "mimetype": "text/x-python",
   "name": "python",
   "nbconvert_exporter": "python",
   "pygments_lexer": "ipython3",
   "version": "3.11.9"
  }
 },
 "nbformat": 4,
 "nbformat_minor": 2
}
